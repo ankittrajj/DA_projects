{
 "cells": [
  {
   "cell_type": "code",
   "execution_count": 1,
   "id": "96535480",
   "metadata": {},
   "outputs": [],
   "source": [
    "import pandas as pd\n",
    "import numpy as np\n",
    "import matplotlib.pyplot as plt\n",
    "import seaborn as sns"
   ]
  },
  {
   "cell_type": "code",
   "execution_count": 2,
   "id": "f10a62b1",
   "metadata": {},
   "outputs": [],
   "source": [
    "df = pd.read_csv('covid-nationality.csv')"
   ]
  },
  {
   "cell_type": "code",
   "execution_count": 7,
   "id": "d041a48e",
   "metadata": {},
   "outputs": [
    {
     "data": {
      "text/html": [
       "<div>\n",
       "<style scoped>\n",
       "    .dataframe tbody tr th:only-of-type {\n",
       "        vertical-align: middle;\n",
       "    }\n",
       "\n",
       "    .dataframe tbody tr th {\n",
       "        vertical-align: top;\n",
       "    }\n",
       "\n",
       "    .dataframe thead th {\n",
       "        text-align: right;\n",
       "    }\n",
       "</style>\n",
       "<table border=\"1\" class=\"dataframe\">\n",
       "  <thead>\n",
       "    <tr style=\"text-align: right;\">\n",
       "      <th></th>\n",
       "      <th>Unnamed: 0</th>\n",
       "      <th>date</th>\n",
       "      <th>state</th>\n",
       "      <th>hospitalized_with_symptoms</th>\n",
       "      <th>intensive_care</th>\n",
       "      <th>total_hospitalized</th>\n",
       "      <th>home_quarantine</th>\n",
       "      <th>total_confirmed_cases</th>\n",
       "      <th>variation_total_confirmed</th>\n",
       "      <th>new_confirmed_cases</th>\n",
       "      <th>recovered</th>\n",
       "      <th>deaths</th>\n",
       "      <th>total_cases</th>\n",
       "      <th>swabs_made</th>\n",
       "      <th>casi_testati</th>\n",
       "      <th>note_it</th>\n",
       "      <th>note_en</th>\n",
       "    </tr>\n",
       "  </thead>\n",
       "  <tbody>\n",
       "    <tr>\n",
       "      <th>0</th>\n",
       "      <td>0</td>\n",
       "      <td>2020-02-24T18:00:00</td>\n",
       "      <td>ITA</td>\n",
       "      <td>101</td>\n",
       "      <td>26</td>\n",
       "      <td>127</td>\n",
       "      <td>94</td>\n",
       "      <td>221</td>\n",
       "      <td>0</td>\n",
       "      <td>221</td>\n",
       "      <td>1</td>\n",
       "      <td>7</td>\n",
       "      <td>229</td>\n",
       "      <td>4324</td>\n",
       "      <td>NaN</td>\n",
       "      <td>NaN</td>\n",
       "      <td>NaN</td>\n",
       "    </tr>\n",
       "    <tr>\n",
       "      <th>1</th>\n",
       "      <td>1</td>\n",
       "      <td>2020-02-25T18:00:00</td>\n",
       "      <td>ITA</td>\n",
       "      <td>114</td>\n",
       "      <td>35</td>\n",
       "      <td>150</td>\n",
       "      <td>162</td>\n",
       "      <td>311</td>\n",
       "      <td>90</td>\n",
       "      <td>93</td>\n",
       "      <td>1</td>\n",
       "      <td>10</td>\n",
       "      <td>322</td>\n",
       "      <td>8623</td>\n",
       "      <td>NaN</td>\n",
       "      <td>NaN</td>\n",
       "      <td>NaN</td>\n",
       "    </tr>\n",
       "    <tr>\n",
       "      <th>2</th>\n",
       "      <td>2</td>\n",
       "      <td>2020-02-26T18:00:00</td>\n",
       "      <td>ITA</td>\n",
       "      <td>128</td>\n",
       "      <td>36</td>\n",
       "      <td>164</td>\n",
       "      <td>221</td>\n",
       "      <td>385</td>\n",
       "      <td>74</td>\n",
       "      <td>78</td>\n",
       "      <td>3</td>\n",
       "      <td>12</td>\n",
       "      <td>400</td>\n",
       "      <td>9587</td>\n",
       "      <td>NaN</td>\n",
       "      <td>NaN</td>\n",
       "      <td>NaN</td>\n",
       "    </tr>\n",
       "    <tr>\n",
       "      <th>3</th>\n",
       "      <td>3</td>\n",
       "      <td>2020-02-27T18:00:00</td>\n",
       "      <td>ITA</td>\n",
       "      <td>248</td>\n",
       "      <td>56</td>\n",
       "      <td>304</td>\n",
       "      <td>284</td>\n",
       "      <td>588</td>\n",
       "      <td>203</td>\n",
       "      <td>250</td>\n",
       "      <td>45</td>\n",
       "      <td>17</td>\n",
       "      <td>650</td>\n",
       "      <td>12014</td>\n",
       "      <td>NaN</td>\n",
       "      <td>NaN</td>\n",
       "      <td>NaN</td>\n",
       "    </tr>\n",
       "    <tr>\n",
       "      <th>4</th>\n",
       "      <td>4</td>\n",
       "      <td>2020-02-28T18:00:00</td>\n",
       "      <td>ITA</td>\n",
       "      <td>345</td>\n",
       "      <td>64</td>\n",
       "      <td>409</td>\n",
       "      <td>412</td>\n",
       "      <td>821</td>\n",
       "      <td>233</td>\n",
       "      <td>238</td>\n",
       "      <td>46</td>\n",
       "      <td>21</td>\n",
       "      <td>888</td>\n",
       "      <td>15695</td>\n",
       "      <td>NaN</td>\n",
       "      <td>NaN</td>\n",
       "      <td>NaN</td>\n",
       "    </tr>\n",
       "  </tbody>\n",
       "</table>\n",
       "</div>"
      ],
      "text/plain": [
       "   Unnamed: 0                 date state  hospitalized_with_symptoms  \\\n",
       "0           0  2020-02-24T18:00:00   ITA                         101   \n",
       "1           1  2020-02-25T18:00:00   ITA                         114   \n",
       "2           2  2020-02-26T18:00:00   ITA                         128   \n",
       "3           3  2020-02-27T18:00:00   ITA                         248   \n",
       "4           4  2020-02-28T18:00:00   ITA                         345   \n",
       "\n",
       "   intensive_care  total_hospitalized  home_quarantine  total_confirmed_cases  \\\n",
       "0              26                 127               94                    221   \n",
       "1              35                 150              162                    311   \n",
       "2              36                 164              221                    385   \n",
       "3              56                 304              284                    588   \n",
       "4              64                 409              412                    821   \n",
       "\n",
       "   variation_total_confirmed  new_confirmed_cases  recovered  deaths  \\\n",
       "0                          0                  221          1       7   \n",
       "1                         90                   93          1      10   \n",
       "2                         74                   78          3      12   \n",
       "3                        203                  250         45      17   \n",
       "4                        233                  238         46      21   \n",
       "\n",
       "   total_cases  swabs_made  casi_testati note_it note_en  \n",
       "0          229        4324           NaN     NaN     NaN  \n",
       "1          322        8623           NaN     NaN     NaN  \n",
       "2          400        9587           NaN     NaN     NaN  \n",
       "3          650       12014           NaN     NaN     NaN  \n",
       "4          888       15695           NaN     NaN     NaN  "
      ]
     },
     "execution_count": 7,
     "metadata": {},
     "output_type": "execute_result"
    }
   ],
   "source": [
    "df.head()"
   ]
  },
  {
   "cell_type": "code",
   "execution_count": 13,
   "id": "82f9d34a",
   "metadata": {},
   "outputs": [],
   "source": [
    "df1 = df.drop(['casi_testati','note_it','note_en'],axis=1)"
   ]
  },
  {
   "cell_type": "code",
   "execution_count": 14,
   "id": "a0274a11",
   "metadata": {},
   "outputs": [
    {
     "data": {
      "text/html": [
       "<div>\n",
       "<style scoped>\n",
       "    .dataframe tbody tr th:only-of-type {\n",
       "        vertical-align: middle;\n",
       "    }\n",
       "\n",
       "    .dataframe tbody tr th {\n",
       "        vertical-align: top;\n",
       "    }\n",
       "\n",
       "    .dataframe thead th {\n",
       "        text-align: right;\n",
       "    }\n",
       "</style>\n",
       "<table border=\"1\" class=\"dataframe\">\n",
       "  <thead>\n",
       "    <tr style=\"text-align: right;\">\n",
       "      <th></th>\n",
       "      <th>Unnamed: 0</th>\n",
       "      <th>hospitalized_with_symptoms</th>\n",
       "      <th>intensive_care</th>\n",
       "      <th>total_hospitalized</th>\n",
       "      <th>home_quarantine</th>\n",
       "      <th>total_confirmed_cases</th>\n",
       "      <th>variation_total_confirmed</th>\n",
       "      <th>new_confirmed_cases</th>\n",
       "      <th>recovered</th>\n",
       "      <th>deaths</th>\n",
       "      <th>total_cases</th>\n",
       "      <th>swabs_made</th>\n",
       "    </tr>\n",
       "  </thead>\n",
       "  <tbody>\n",
       "    <tr>\n",
       "      <th>count</th>\n",
       "      <td>70.000000</td>\n",
       "      <td>70.000000</td>\n",
       "      <td>70.000000</td>\n",
       "      <td>70.000000</td>\n",
       "      <td>70.000000</td>\n",
       "      <td>70.000000</td>\n",
       "      <td>70.000000</td>\n",
       "      <td>70.000000</td>\n",
       "      <td>70.000000</td>\n",
       "      <td>70.000000</td>\n",
       "      <td>70.000000</td>\n",
       "      <td>7.000000e+01</td>\n",
       "    </tr>\n",
       "    <tr>\n",
       "      <th>mean</th>\n",
       "      <td>34.500000</td>\n",
       "      <td>17373.142857</td>\n",
       "      <td>2225.128571</td>\n",
       "      <td>19598.285714</td>\n",
       "      <td>41387.885714</td>\n",
       "      <td>60986.157143</td>\n",
       "      <td>1427.971429</td>\n",
       "      <td>3010.128571</td>\n",
       "      <td>23623.457143</td>\n",
       "      <td>12095.185714</td>\n",
       "      <td>96704.800000</td>\n",
       "      <td>6.873203e+05</td>\n",
       "    </tr>\n",
       "    <tr>\n",
       "      <th>std</th>\n",
       "      <td>20.351085</td>\n",
       "      <td>10475.956363</td>\n",
       "      <td>1330.399743</td>\n",
       "      <td>11743.460668</td>\n",
       "      <td>32774.474616</td>\n",
       "      <td>42510.504183</td>\n",
       "      <td>1642.323857</td>\n",
       "      <td>1750.317768</td>\n",
       "      <td>25315.758084</td>\n",
       "      <td>10460.388291</td>\n",
       "      <td>75590.446898</td>\n",
       "      <td>6.689012e+05</td>\n",
       "    </tr>\n",
       "    <tr>\n",
       "      <th>min</th>\n",
       "      <td>0.000000</td>\n",
       "      <td>101.000000</td>\n",
       "      <td>26.000000</td>\n",
       "      <td>127.000000</td>\n",
       "      <td>94.000000</td>\n",
       "      <td>221.000000</td>\n",
       "      <td>-3106.000000</td>\n",
       "      <td>78.000000</td>\n",
       "      <td>1.000000</td>\n",
       "      <td>7.000000</td>\n",
       "      <td>229.000000</td>\n",
       "      <td>4.324000e+03</td>\n",
       "    </tr>\n",
       "    <tr>\n",
       "      <th>25%</th>\n",
       "      <td>17.250000</td>\n",
       "      <td>6844.000000</td>\n",
       "      <td>1196.750000</td>\n",
       "      <td>8040.750000</td>\n",
       "      <td>5327.250000</td>\n",
       "      <td>13368.000000</td>\n",
       "      <td>229.250000</td>\n",
       "      <td>1815.750000</td>\n",
       "      <td>1303.250000</td>\n",
       "      <td>1078.500000</td>\n",
       "      <td>15749.750000</td>\n",
       "      <td>8.888025e+04</td>\n",
       "    </tr>\n",
       "    <tr>\n",
       "      <th>50%</th>\n",
       "      <td>34.500000</td>\n",
       "      <td>20522.500000</td>\n",
       "      <td>2325.500000</td>\n",
       "      <td>23118.000000</td>\n",
       "      <td>43170.000000</td>\n",
       "      <td>74704.000000</td>\n",
       "      <td>1192.000000</td>\n",
       "      <td>3043.000000</td>\n",
       "      <td>13825.000000</td>\n",
       "      <td>11185.000000</td>\n",
       "      <td>99714.000000</td>\n",
       "      <td>4.656945e+05</td>\n",
       "    </tr>\n",
       "    <tr>\n",
       "      <th>75%</th>\n",
       "      <td>51.750000</td>\n",
       "      <td>27262.750000</td>\n",
       "      <td>3392.250000</td>\n",
       "      <td>30674.500000</td>\n",
       "      <td>76257.500000</td>\n",
       "      <td>102077.500000</td>\n",
       "      <td>2605.250000</td>\n",
       "      <td>4206.250000</td>\n",
       "      <td>39646.000000</td>\n",
       "      <td>22038.750000</td>\n",
       "      <td>167994.500000</td>\n",
       "      <td>1.163153e+06</td>\n",
       "    </tr>\n",
       "    <tr>\n",
       "      <th>max</th>\n",
       "      <td>69.000000</td>\n",
       "      <td>29010.000000</td>\n",
       "      <td>4068.000000</td>\n",
       "      <td>33004.000000</td>\n",
       "      <td>83652.000000</td>\n",
       "      <td>108257.000000</td>\n",
       "      <td>4821.000000</td>\n",
       "      <td>6557.000000</td>\n",
       "      <td>81654.000000</td>\n",
       "      <td>28884.000000</td>\n",
       "      <td>210717.000000</td>\n",
       "      <td>2.153772e+06</td>\n",
       "    </tr>\n",
       "  </tbody>\n",
       "</table>\n",
       "</div>"
      ],
      "text/plain": [
       "       Unnamed: 0  hospitalized_with_symptoms  intensive_care  \\\n",
       "count   70.000000                   70.000000       70.000000   \n",
       "mean    34.500000                17373.142857     2225.128571   \n",
       "std     20.351085                10475.956363     1330.399743   \n",
       "min      0.000000                  101.000000       26.000000   \n",
       "25%     17.250000                 6844.000000     1196.750000   \n",
       "50%     34.500000                20522.500000     2325.500000   \n",
       "75%     51.750000                27262.750000     3392.250000   \n",
       "max     69.000000                29010.000000     4068.000000   \n",
       "\n",
       "       total_hospitalized  home_quarantine  total_confirmed_cases  \\\n",
       "count           70.000000        70.000000              70.000000   \n",
       "mean         19598.285714     41387.885714           60986.157143   \n",
       "std          11743.460668     32774.474616           42510.504183   \n",
       "min            127.000000        94.000000             221.000000   \n",
       "25%           8040.750000      5327.250000           13368.000000   \n",
       "50%          23118.000000     43170.000000           74704.000000   \n",
       "75%          30674.500000     76257.500000          102077.500000   \n",
       "max          33004.000000     83652.000000          108257.000000   \n",
       "\n",
       "       variation_total_confirmed  new_confirmed_cases     recovered  \\\n",
       "count                  70.000000            70.000000     70.000000   \n",
       "mean                 1427.971429          3010.128571  23623.457143   \n",
       "std                  1642.323857          1750.317768  25315.758084   \n",
       "min                 -3106.000000            78.000000      1.000000   \n",
       "25%                   229.250000          1815.750000   1303.250000   \n",
       "50%                  1192.000000          3043.000000  13825.000000   \n",
       "75%                  2605.250000          4206.250000  39646.000000   \n",
       "max                  4821.000000          6557.000000  81654.000000   \n",
       "\n",
       "             deaths    total_cases    swabs_made  \n",
       "count     70.000000      70.000000  7.000000e+01  \n",
       "mean   12095.185714   96704.800000  6.873203e+05  \n",
       "std    10460.388291   75590.446898  6.689012e+05  \n",
       "min        7.000000     229.000000  4.324000e+03  \n",
       "25%     1078.500000   15749.750000  8.888025e+04  \n",
       "50%    11185.000000   99714.000000  4.656945e+05  \n",
       "75%    22038.750000  167994.500000  1.163153e+06  \n",
       "max    28884.000000  210717.000000  2.153772e+06  "
      ]
     },
     "execution_count": 14,
     "metadata": {},
     "output_type": "execute_result"
    }
   ],
   "source": [
    "df1.describe()"
   ]
  },
  {
   "cell_type": "code",
   "execution_count": 15,
   "id": "5b27630b",
   "metadata": {},
   "outputs": [
    {
     "data": {
      "text/html": [
       "<div>\n",
       "<style scoped>\n",
       "    .dataframe tbody tr th:only-of-type {\n",
       "        vertical-align: middle;\n",
       "    }\n",
       "\n",
       "    .dataframe tbody tr th {\n",
       "        vertical-align: top;\n",
       "    }\n",
       "\n",
       "    .dataframe thead th {\n",
       "        text-align: right;\n",
       "    }\n",
       "</style>\n",
       "<table border=\"1\" class=\"dataframe\">\n",
       "  <thead>\n",
       "    <tr style=\"text-align: right;\">\n",
       "      <th></th>\n",
       "      <th>Unnamed: 0</th>\n",
       "      <th>hospitalized_with_symptoms</th>\n",
       "      <th>intensive_care</th>\n",
       "      <th>total_hospitalized</th>\n",
       "      <th>home_quarantine</th>\n",
       "      <th>total_confirmed_cases</th>\n",
       "      <th>variation_total_confirmed</th>\n",
       "      <th>new_confirmed_cases</th>\n",
       "      <th>recovered</th>\n",
       "      <th>deaths</th>\n",
       "      <th>total_cases</th>\n",
       "      <th>swabs_made</th>\n",
       "    </tr>\n",
       "  </thead>\n",
       "  <tbody>\n",
       "    <tr>\n",
       "      <th>Unnamed: 0</th>\n",
       "      <td>1.000000</td>\n",
       "      <td>0.759971</td>\n",
       "      <td>0.536125</td>\n",
       "      <td>0.738680</td>\n",
       "      <td>0.977207</td>\n",
       "      <td>0.957461</td>\n",
       "      <td>-0.305721</td>\n",
       "      <td>0.289439</td>\n",
       "      <td>0.937960</td>\n",
       "      <td>0.981392</td>\n",
       "      <td>0.988393</td>\n",
       "      <td>0.955030</td>\n",
       "    </tr>\n",
       "    <tr>\n",
       "      <th>hospitalized_with_symptoms</th>\n",
       "      <td>0.759971</td>\n",
       "      <td>1.000000</td>\n",
       "      <td>0.946883</td>\n",
       "      <td>0.999336</td>\n",
       "      <td>0.795108</td>\n",
       "      <td>0.889073</td>\n",
       "      <td>0.227592</td>\n",
       "      <td>0.722996</td>\n",
       "      <td>0.509869</td>\n",
       "      <td>0.718915</td>\n",
       "      <td>0.770240</td>\n",
       "      <td>0.555912</td>\n",
       "    </tr>\n",
       "    <tr>\n",
       "      <th>intensive_care</th>\n",
       "      <td>0.536125</td>\n",
       "      <td>0.946883</td>\n",
       "      <td>1.000000</td>\n",
       "      <td>0.957970</td>\n",
       "      <td>0.562762</td>\n",
       "      <td>0.698513</td>\n",
       "      <td>0.494737</td>\n",
       "      <td>0.860763</td>\n",
       "      <td>0.230481</td>\n",
       "      <td>0.466470</td>\n",
       "      <td>0.534570</td>\n",
       "      <td>0.280654</td>\n",
       "    </tr>\n",
       "    <tr>\n",
       "      <th>total_hospitalized</th>\n",
       "      <td>0.738680</td>\n",
       "      <td>0.999336</td>\n",
       "      <td>0.957970</td>\n",
       "      <td>1.000000</td>\n",
       "      <td>0.773043</td>\n",
       "      <td>0.872244</td>\n",
       "      <td>0.259074</td>\n",
       "      <td>0.742474</td>\n",
       "      <td>0.480947</td>\n",
       "      <td>0.694164</td>\n",
       "      <td>0.747665</td>\n",
       "      <td>0.527704</td>\n",
       "    </tr>\n",
       "    <tr>\n",
       "      <th>home_quarantine</th>\n",
       "      <td>0.977207</td>\n",
       "      <td>0.795108</td>\n",
       "      <td>0.562762</td>\n",
       "      <td>0.773043</td>\n",
       "      <td>1.000000</td>\n",
       "      <td>0.984526</td>\n",
       "      <td>-0.338854</td>\n",
       "      <td>0.260811</td>\n",
       "      <td>0.912032</td>\n",
       "      <td>0.991391</td>\n",
       "      <td>0.996314</td>\n",
       "      <td>0.933754</td>\n",
       "    </tr>\n",
       "    <tr>\n",
       "      <th>total_confirmed_cases</th>\n",
       "      <td>0.957461</td>\n",
       "      <td>0.889073</td>\n",
       "      <td>0.698513</td>\n",
       "      <td>0.872244</td>\n",
       "      <td>0.984526</td>\n",
       "      <td>1.000000</td>\n",
       "      <td>-0.189679</td>\n",
       "      <td>0.406186</td>\n",
       "      <td>0.836014</td>\n",
       "      <td>0.956099</td>\n",
       "      <td>0.974673</td>\n",
       "      <td>0.865677</td>\n",
       "    </tr>\n",
       "    <tr>\n",
       "      <th>variation_total_confirmed</th>\n",
       "      <td>-0.305721</td>\n",
       "      <td>0.227592</td>\n",
       "      <td>0.494737</td>\n",
       "      <td>0.259074</td>\n",
       "      <td>-0.338854</td>\n",
       "      <td>-0.189679</td>\n",
       "      <td>1.000000</td>\n",
       "      <td>0.780004</td>\n",
       "      <td>-0.563938</td>\n",
       "      <td>-0.426503</td>\n",
       "      <td>-0.354558</td>\n",
       "      <td>-0.532430</td>\n",
       "    </tr>\n",
       "    <tr>\n",
       "      <th>new_confirmed_cases</th>\n",
       "      <td>0.289439</td>\n",
       "      <td>0.722996</td>\n",
       "      <td>0.860763</td>\n",
       "      <td>0.742474</td>\n",
       "      <td>0.260811</td>\n",
       "      <td>0.406186</td>\n",
       "      <td>0.780004</td>\n",
       "      <td>1.000000</td>\n",
       "      <td>-0.016260</td>\n",
       "      <td>0.167342</td>\n",
       "      <td>0.246142</td>\n",
       "      <td>0.027119</td>\n",
       "    </tr>\n",
       "    <tr>\n",
       "      <th>recovered</th>\n",
       "      <td>0.937960</td>\n",
       "      <td>0.509869</td>\n",
       "      <td>0.230481</td>\n",
       "      <td>0.480947</td>\n",
       "      <td>0.912032</td>\n",
       "      <td>0.836014</td>\n",
       "      <td>-0.563938</td>\n",
       "      <td>-0.016260</td>\n",
       "      <td>1.000000</td>\n",
       "      <td>0.956797</td>\n",
       "      <td>0.937468</td>\n",
       "      <td>0.998237</td>\n",
       "    </tr>\n",
       "    <tr>\n",
       "      <th>deaths</th>\n",
       "      <td>0.981392</td>\n",
       "      <td>0.718915</td>\n",
       "      <td>0.466470</td>\n",
       "      <td>0.694164</td>\n",
       "      <td>0.991391</td>\n",
       "      <td>0.956099</td>\n",
       "      <td>-0.426503</td>\n",
       "      <td>0.167342</td>\n",
       "      <td>0.956797</td>\n",
       "      <td>1.000000</td>\n",
       "      <td>0.996510</td>\n",
       "      <td>0.971369</td>\n",
       "    </tr>\n",
       "    <tr>\n",
       "      <th>total_cases</th>\n",
       "      <td>0.988393</td>\n",
       "      <td>0.770240</td>\n",
       "      <td>0.534570</td>\n",
       "      <td>0.747665</td>\n",
       "      <td>0.996314</td>\n",
       "      <td>0.974673</td>\n",
       "      <td>-0.354558</td>\n",
       "      <td>0.246142</td>\n",
       "      <td>0.937468</td>\n",
       "      <td>0.996510</td>\n",
       "      <td>1.000000</td>\n",
       "      <td>0.955576</td>\n",
       "    </tr>\n",
       "    <tr>\n",
       "      <th>swabs_made</th>\n",
       "      <td>0.955030</td>\n",
       "      <td>0.555912</td>\n",
       "      <td>0.280654</td>\n",
       "      <td>0.527704</td>\n",
       "      <td>0.933754</td>\n",
       "      <td>0.865677</td>\n",
       "      <td>-0.532430</td>\n",
       "      <td>0.027119</td>\n",
       "      <td>0.998237</td>\n",
       "      <td>0.971369</td>\n",
       "      <td>0.955576</td>\n",
       "      <td>1.000000</td>\n",
       "    </tr>\n",
       "  </tbody>\n",
       "</table>\n",
       "</div>"
      ],
      "text/plain": [
       "                            Unnamed: 0  hospitalized_with_symptoms  \\\n",
       "Unnamed: 0                    1.000000                    0.759971   \n",
       "hospitalized_with_symptoms    0.759971                    1.000000   \n",
       "intensive_care                0.536125                    0.946883   \n",
       "total_hospitalized            0.738680                    0.999336   \n",
       "home_quarantine               0.977207                    0.795108   \n",
       "total_confirmed_cases         0.957461                    0.889073   \n",
       "variation_total_confirmed    -0.305721                    0.227592   \n",
       "new_confirmed_cases           0.289439                    0.722996   \n",
       "recovered                     0.937960                    0.509869   \n",
       "deaths                        0.981392                    0.718915   \n",
       "total_cases                   0.988393                    0.770240   \n",
       "swabs_made                    0.955030                    0.555912   \n",
       "\n",
       "                            intensive_care  total_hospitalized  \\\n",
       "Unnamed: 0                        0.536125            0.738680   \n",
       "hospitalized_with_symptoms        0.946883            0.999336   \n",
       "intensive_care                    1.000000            0.957970   \n",
       "total_hospitalized                0.957970            1.000000   \n",
       "home_quarantine                   0.562762            0.773043   \n",
       "total_confirmed_cases             0.698513            0.872244   \n",
       "variation_total_confirmed         0.494737            0.259074   \n",
       "new_confirmed_cases               0.860763            0.742474   \n",
       "recovered                         0.230481            0.480947   \n",
       "deaths                            0.466470            0.694164   \n",
       "total_cases                       0.534570            0.747665   \n",
       "swabs_made                        0.280654            0.527704   \n",
       "\n",
       "                            home_quarantine  total_confirmed_cases  \\\n",
       "Unnamed: 0                         0.977207               0.957461   \n",
       "hospitalized_with_symptoms         0.795108               0.889073   \n",
       "intensive_care                     0.562762               0.698513   \n",
       "total_hospitalized                 0.773043               0.872244   \n",
       "home_quarantine                    1.000000               0.984526   \n",
       "total_confirmed_cases              0.984526               1.000000   \n",
       "variation_total_confirmed         -0.338854              -0.189679   \n",
       "new_confirmed_cases                0.260811               0.406186   \n",
       "recovered                          0.912032               0.836014   \n",
       "deaths                             0.991391               0.956099   \n",
       "total_cases                        0.996314               0.974673   \n",
       "swabs_made                         0.933754               0.865677   \n",
       "\n",
       "                            variation_total_confirmed  new_confirmed_cases  \\\n",
       "Unnamed: 0                                  -0.305721             0.289439   \n",
       "hospitalized_with_symptoms                   0.227592             0.722996   \n",
       "intensive_care                               0.494737             0.860763   \n",
       "total_hospitalized                           0.259074             0.742474   \n",
       "home_quarantine                             -0.338854             0.260811   \n",
       "total_confirmed_cases                       -0.189679             0.406186   \n",
       "variation_total_confirmed                    1.000000             0.780004   \n",
       "new_confirmed_cases                          0.780004             1.000000   \n",
       "recovered                                   -0.563938            -0.016260   \n",
       "deaths                                      -0.426503             0.167342   \n",
       "total_cases                                 -0.354558             0.246142   \n",
       "swabs_made                                  -0.532430             0.027119   \n",
       "\n",
       "                            recovered    deaths  total_cases  swabs_made  \n",
       "Unnamed: 0                   0.937960  0.981392     0.988393    0.955030  \n",
       "hospitalized_with_symptoms   0.509869  0.718915     0.770240    0.555912  \n",
       "intensive_care               0.230481  0.466470     0.534570    0.280654  \n",
       "total_hospitalized           0.480947  0.694164     0.747665    0.527704  \n",
       "home_quarantine              0.912032  0.991391     0.996314    0.933754  \n",
       "total_confirmed_cases        0.836014  0.956099     0.974673    0.865677  \n",
       "variation_total_confirmed   -0.563938 -0.426503    -0.354558   -0.532430  \n",
       "new_confirmed_cases         -0.016260  0.167342     0.246142    0.027119  \n",
       "recovered                    1.000000  0.956797     0.937468    0.998237  \n",
       "deaths                       0.956797  1.000000     0.996510    0.971369  \n",
       "total_cases                  0.937468  0.996510     1.000000    0.955576  \n",
       "swabs_made                   0.998237  0.971369     0.955576    1.000000  "
      ]
     },
     "execution_count": 15,
     "metadata": {},
     "output_type": "execute_result"
    }
   ],
   "source": [
    "df1.corr()"
   ]
  },
  {
   "cell_type": "code",
   "execution_count": 16,
   "id": "d6606c71",
   "metadata": {},
   "outputs": [
    {
     "data": {
      "text/plain": [
       "<AxesSubplot:>"
      ]
     },
     "execution_count": 16,
     "metadata": {},
     "output_type": "execute_result"
    },
    {
     "data": {
      "image/png": "[encoded data removed]",
      "text/plain": [
       "<Figure size 432x288 with 2 Axes>"
      ]
     },
     "metadata": {
      "needs_background": "light"
     },
     "output_type": "display_data"
    }
   ],
   "source": [
    "sns.heatmap(df1.corr())"
   ]
  },
  {
   "cell_type": "code",
   "execution_count": 17,
   "id": "e78f3e50",
   "metadata": {},
   "outputs": [
    {
     "data": {
      "text/plain": [
       "Unnamed: 0                    0\n",
       "date                          0\n",
       "state                         0\n",
       "hospitalized_with_symptoms    0\n",
       "intensive_care                0\n",
       "total_hospitalized            0\n",
       "home_quarantine               0\n",
       "total_confirmed_cases         0\n",
       "variation_total_confirmed     0\n",
       "new_confirmed_cases           0\n",
       "recovered                     0\n",
       "deaths                        0\n",
       "total_cases                   0\n",
       "swabs_made                    0\n",
       "dtype: int64"
      ]
     },
     "execution_count": 17,
     "metadata": {},
     "output_type": "execute_result"
    }
   ],
   "source": [
    "df1.isnull().sum()"
   ]
  },
  {
   "cell_type": "code",
   "execution_count": 19,
   "id": "42ddecd6",
   "metadata": {},
   "outputs": [
    {
     "data": {
      "text/plain": [
       "<AxesSubplot:>"
      ]
     },
     "execution_count": 19,
     "metadata": {},
     "output_type": "execute_result"
    },
    {
     "data": {
      "image/png": "[encoded data removed]",
      "text/plain": [
       "<Figure size 432x288 with 2 Axes>"
      ]
     },
     "metadata": {
      "needs_background": "light"
     },
     "output_type": "display_data"
    }
   ],
   "source": [
    "sns.heatmap(df1.isnull())"
   ]
  },
  {
   "cell_type": "code",
   "execution_count": 23,
   "id": "cfd2fc0a",
   "metadata": {},
   "outputs": [
    {
     "data": {
      "text/plain": [
       "Index(['Unnamed: 0', 'date', 'state', 'hospitalized_with_symptoms',\n",
       "       'intensive_care', 'total_hospitalized', 'home_quarantine',\n",
       "       'total_confirmed_cases', 'variation_total_confirmed',\n",
       "       'new_confirmed_cases', 'recovered', 'deaths', 'total_cases',\n",
       "       'swabs_made'],\n",
       "      dtype='object')"
      ]
     },
     "execution_count": 23,
     "metadata": {},
     "output_type": "execute_result"
    }
   ],
   "source": [
    "df1.columns"
   ]
  },
  {
   "cell_type": "markdown",
   "id": "76a96dc6",
   "metadata": {},
   "source": [
    "# Relation plot with scatter plot"
   ]
  },
  {
   "cell_type": "code",
   "execution_count": 25,
   "id": "1a57a9a7",
   "metadata": {},
   "outputs": [
    {
     "data": {
      "text/plain": [
       "<seaborn.axisgrid.FacetGrid at 0x26bf920a6d0>"
      ]
     },
     "execution_count": 25,
     "metadata": {},
     "output_type": "execute_result"
    },
    {
     "data": {
      "image/png": "[encoded data removed]",
      "text/plain": [
       "<Figure size 360x360 with 1 Axes>"
      ]
     },
     "metadata": {
      "needs_background": "light"
     },
     "output_type": "display_data"
    }
   ],
   "source": [
    "sns.relplot(x='total_cases',y='recovered',data=df)"
   ]
  },
  {
   "cell_type": "code",
   "execution_count": 28,
   "id": "d8d523f4",
   "metadata": {},
   "outputs": [
    {
     "data": {
      "text/plain": [
       "<AxesSubplot:xlabel='total_cases', ylabel='deaths'>"
      ]
     },
     "execution_count": 28,
     "metadata": {},
     "output_type": "execute_result"
    },
    {
     "data": {
      "image/png": "[encoded data removed]",
      "text/plain": [
       "<Figure size 432x288 with 1 Axes>"
      ]
     },
     "metadata": {
      "needs_background": "light"
     },
     "output_type": "display_data"
    }
   ],
   "source": [
    "sns.scatterplot(x='total_cases',y='deaths',data=df)"
   ]
  },
  {
   "cell_type": "code",
   "execution_count": 40,
   "id": "292fe3bc",
   "metadata": {},
   "outputs": [],
   "source": [
    "case_morethan_20k = df.loc[df['total_cases']>20000,['total_cases','deaths','recovered']]"
   ]
  },
  {
   "cell_type": "code",
   "execution_count": 42,
   "id": "c769f983",
   "metadata": {},
   "outputs": [
    {
     "data": {
      "text/html": [
       "<div>\n",
       "<style scoped>\n",
       "    .dataframe tbody tr th:only-of-type {\n",
       "        vertical-align: middle;\n",
       "    }\n",
       "\n",
       "    .dataframe tbody tr th {\n",
       "        vertical-align: top;\n",
       "    }\n",
       "\n",
       "    .dataframe thead th {\n",
       "        text-align: right;\n",
       "    }\n",
       "</style>\n",
       "<table border=\"1\" class=\"dataframe\">\n",
       "  <thead>\n",
       "    <tr style=\"text-align: right;\">\n",
       "      <th></th>\n",
       "      <th>total_cases</th>\n",
       "      <th>deaths</th>\n",
       "      <th>recovered</th>\n",
       "    </tr>\n",
       "  </thead>\n",
       "  <tbody>\n",
       "    <tr>\n",
       "      <th>19</th>\n",
       "      <td>21157</td>\n",
       "      <td>1441</td>\n",
       "      <td>1966</td>\n",
       "    </tr>\n",
       "    <tr>\n",
       "      <th>20</th>\n",
       "      <td>24747</td>\n",
       "      <td>1809</td>\n",
       "      <td>2335</td>\n",
       "    </tr>\n",
       "    <tr>\n",
       "      <th>21</th>\n",
       "      <td>27980</td>\n",
       "      <td>2158</td>\n",
       "      <td>2749</td>\n",
       "    </tr>\n",
       "    <tr>\n",
       "      <th>22</th>\n",
       "      <td>31506</td>\n",
       "      <td>2503</td>\n",
       "      <td>2941</td>\n",
       "    </tr>\n",
       "    <tr>\n",
       "      <th>23</th>\n",
       "      <td>35713</td>\n",
       "      <td>2978</td>\n",
       "      <td>4025</td>\n",
       "    </tr>\n",
       "  </tbody>\n",
       "</table>\n",
       "</div>"
      ],
      "text/plain": [
       "    total_cases  deaths  recovered\n",
       "19        21157    1441       1966\n",
       "20        24747    1809       2335\n",
       "21        27980    2158       2749\n",
       "22        31506    2503       2941\n",
       "23        35713    2978       4025"
      ]
     },
     "execution_count": 42,
     "metadata": {},
     "output_type": "execute_result"
    }
   ],
   "source": [
    "case_morethan_20k.head()"
   ]
  },
  {
   "cell_type": "code",
   "execution_count": 43,
   "id": "8b755bf7",
   "metadata": {},
   "outputs": [
    {
     "data": {
      "text/plain": [
       "<seaborn.axisgrid.FacetGrid at 0x26bfb0633a0>"
      ]
     },
     "execution_count": 43,
     "metadata": {},
     "output_type": "execute_result"
    },
    {
     "data": {
      "image/png": "[encoded data removed]",
      "text/plain": [
       "<Figure size 360x360 with 1 Axes>"
      ]
     },
     "metadata": {
      "needs_background": "light"
     },
     "output_type": "display_data"
    }
   ],
   "source": [
    "sns.relplot(x='deaths',y='total_cases',data=case_morethan_20k)"
   ]
  },
  {
   "cell_type": "code",
   "execution_count": 45,
   "id": "aa4cb9cc",
   "metadata": {},
   "outputs": [
    {
     "data": {
      "text/plain": [
       "<AxesSubplot:xlabel='total_hospitalized', ylabel='hospitalized_with_symptoms'>"
      ]
     },
     "execution_count": 45,
     "metadata": {},
     "output_type": "execute_result"
    },
    {
     "data": {
      "image/png": "[encoded data removed]",
      "text/plain": [
       "<Figure size 432x288 with 1 Axes>"
      ]
     },
     "metadata": {
      "needs_background": "light"
     },
     "output_type": "display_data"
    }
   ],
   "source": [
    "sns.scatterplot(x='total_hospitalized',y='hospitalized_with_symptoms',hue = 'dea',data=df)"
   ]
  },
  {
   "cell_type": "code",
   "execution_count": null,
   "id": "429cdf8c",
   "metadata": {},
   "outputs": [],
   "source": []
  }
 ],
 "metadata": {
  "kernelspec": {
   "display_name": "Python 3 (ipykernel)",
   "language": "python",
   "name": "python3"
  },
  "language_info": {
   "codemirror_mode": {
    "name": "ipython",
    "version": 3
   },
   "file_extension": ".py",
   "mimetype": "text/x-python",
   "name": "python",
   "nbconvert_exporter": "python",
   "pygments_lexer": "ipython3",
   "version": "3.9.7"
  }
 },
 "nbformat": 4,
 "nbformat_minor": 5
}
